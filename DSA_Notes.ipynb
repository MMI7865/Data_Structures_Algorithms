{
 "cells": [
  {
   "cell_type": "markdown",
   "id": "09cb65ba-1001-4b8a-9349-7ac417c1f314",
   "metadata": {},
   "source": [
    "# **Data Structures and Algorithms Notes**\n",
    "\n",
    "## Contents\n",
    "- [Linear Search](#linear-search)\n",
    "- [Binary Search](#binary-search)\n",
    "- [Binary Search Trees](#binary-search-trees)\n",
    "\n"
   ]
  },
  {
   "cell_type": "markdown",
   "id": "1cf22080-e283-4990-ba1b-6d4a77b8c098",
   "metadata": {},
   "source": [
    "<a id=\"linear-search\"></a>\n",
    "## Linear Search"
   ]
  },
  {
   "cell_type": "code",
   "execution_count": 2,
   "id": "ed5a98ef-4ad5-4f88-a1ac-a43b5184e727",
   "metadata": {
    "tags": []
   },
   "outputs": [],
   "source": [
    "def linear_Search(arr, target):\n",
    "    position = 0\n",
    "    while position < len(arr):\n",
    "        if arr[position] == target:\n",
    "            return position\n",
    "        position += 1\n",
    "    return -1"
   ]
  },
  {
   "cell_type": "markdown",
   "id": "2d378097-119a-4218-b07e-e1279f3e41fb",
   "metadata": {},
   "source": [
    "**Time Complexity: O(log N)**\n",
    "\n",
    "**Space Complexity: O(1)**"
   ]
  },
  {
   "cell_type": "markdown",
   "id": "c92769a4-c05a-4c7c-8e34-e61d95ae0148",
   "metadata": {},
   "source": [
    "<a id=\"binary-search\"></a>\n",
    "## Binary Search\n",
    "\n",
    "Binary search is a common algorithm used to efficiently find an element in a sorted array.\n",
    "\n",
    "Here's a sample Python implementation of binary search:"
   ]
  },
  {
   "cell_type": "code",
   "execution_count": 1,
   "id": "2727fb09-abc6-4fab-87b5-5e1eca9114dc",
   "metadata": {
    "tags": []
   },
   "outputs": [],
   "source": [
    "def binary_search(arr, target):\n",
    "    left, right = 0, len(arr) - 1\n",
    "    \n",
    "    while left <= right:\n",
    "        mid = (left + right) // 2\n",
    "        \n",
    "        if arr[mid] == target:\n",
    "            return mid\n",
    "        elif arr[mid] < target:\n",
    "            left = mid + 1\n",
    "        else:\n",
    "            right = mid - 1\n",
    "    \n",
    "    return -1"
   ]
  },
  {
   "cell_type": "markdown",
   "id": "5fe83815-e79c-4d96-8e42-15d75fe87a0b",
   "metadata": {},
   "source": [
    "**Time Complexity: O(log N)**\n",
    "\n",
    "**Space Complexity: O(1)**"
   ]
  },
  {
   "cell_type": "code",
   "execution_count": null,
   "id": "ece6319a-246e-4b39-b100-a39f9e5ae0c4",
   "metadata": {},
   "outputs": [],
   "source": []
  }
 ],
 "metadata": {
  "kernelspec": {
   "display_name": "Python 3 (ipykernel)",
   "language": "python",
   "name": "python3"
  },
  "language_info": {
   "codemirror_mode": {
    "name": "ipython",
    "version": 3
   },
   "file_extension": ".py",
   "mimetype": "text/x-python",
   "name": "python",
   "nbconvert_exporter": "python",
   "pygments_lexer": "ipython3",
   "version": "3.10.11"
  }
 },
 "nbformat": 4,
 "nbformat_minor": 5
}
